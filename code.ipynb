{
 "cells": [
  {
   "cell_type": "code",
   "execution_count": 167,
   "id": "ff8f3acc-82b1-4ead-bf2a-f6b50b2e5aa7",
   "metadata": {},
   "outputs": [],
   "source": [
    "import pandas as pd\n",
    "from sklearn.model_selection import KFold, cross_val_score, cross_validate\n",
    "from sklearn.metrics import precision_score, recall_score, precision_recall_fscore_support\n",
    "from sklearn import metrics\n",
    "import keras\n",
    "from keras.models import Sequential\n",
    "from keras.layers.core import Dense\n",
    "import tensorflow as tf\n",
    "import numpy as np\n",
    "import matplotlib.pyplot as plt\n",
    "import random\n",
    "import itertools"
   ]
  },
  {
   "cell_type": "markdown",
   "id": "c16537e0-6e0e-4f16-b61c-4df8eccfc1c6",
   "metadata": {},
   "source": [
    "## Question 1"
   ]
  },
  {
   "cell_type": "code",
   "execution_count": 170,
   "id": "43cf6eb4-387c-49cc-9eac-7dbfeb090d28",
   "metadata": {},
   "outputs": [],
   "source": [
    "from sklearn.neighbors import KNeighborsClassifier"
   ]
  },
  {
   "cell_type": "code",
   "execution_count": 177,
   "id": "024e4cf5-fab6-4185-bf98-01edfb7871c7",
   "metadata": {},
   "outputs": [],
   "source": [
    "x1 = []\n",
    "x2 = []\n",
    "y = []\n",
    "\n",
    "with open('data//D2z.txt') as file:\n",
    "    for line in file:\n",
    "        var = line.split(' ')\n",
    "        x1.append(float(var[0]))\n",
    "        x2.append(float(var[1]))\n",
    "        y.append(int(var[2][0]))\n",
    "        #print(var)\n",
    "        \n",
    "x_train = np.vstack((np.array(x1), np.array(x2))).T\n",
    "y_train = np.array(y)"
   ]
  },
  {
   "cell_type": "code",
   "execution_count": 172,
   "id": "fe77a19c-1036-4f26-86d6-e63fea8ee379",
   "metadata": {},
   "outputs": [],
   "source": [
    "test_x1 = [i/10 for i in range(-20,21,1)]\n",
    "test_x2 = [i/10 for i in range(-20,21,1)]\n",
    "\n",
    "cartesian_list = []\n",
    "for element in itertools.product(*[test_x1, test_x2]):\n",
    "    cartesian_list.append(list(element))"
   ]
  },
  {
   "cell_type": "code",
   "execution_count": 179,
   "id": "b9d5b848-8840-4c44-a9a5-1ea8779527b9",
   "metadata": {},
   "outputs": [],
   "source": [
    "neighbors_1 = KNeighborsClassifier(n_neighbors=1)\n",
    "neighbors_1.fit(x_train, y_train)\n",
    "\n",
    "y_pred = neighbors_1.predict(cartesian_list)"
   ]
  },
  {
   "cell_type": "code",
   "execution_count": 195,
   "id": "794cfa58-1cae-417e-8b94-caf7d23f10df",
   "metadata": {},
   "outputs": [],
   "source": [
    "train = np.vstack((np.array(x1), np.array(x2), np.array(y))).T\n",
    "train_df = pd.DataFrame(train)\n",
    "\n",
    "test_df = pd.DataFrame(cartesian_list)\n",
    "test_df['2'] = y_pred "
   ]
  },
  {
   "cell_type": "code",
   "execution_count": 194,
   "id": "53122530-e488-46c0-a443-bb0623677dd3",
   "metadata": {},
   "outputs": [
    {
     "data": {
      "text/html": [
       "<div>\n",
       "<style scoped>\n",
       "    .dataframe tbody tr th:only-of-type {\n",
       "        vertical-align: middle;\n",
       "    }\n",
       "\n",
       "    .dataframe tbody tr th {\n",
       "        vertical-align: top;\n",
       "    }\n",
       "\n",
       "    .dataframe thead th {\n",
       "        text-align: right;\n",
       "    }\n",
       "</style>\n",
       "<table border=\"1\" class=\"dataframe\">\n",
       "  <thead>\n",
       "    <tr style=\"text-align: right;\">\n",
       "      <th></th>\n",
       "      <th>0</th>\n",
       "      <th>1</th>\n",
       "      <th>2</th>\n",
       "    </tr>\n",
       "  </thead>\n",
       "  <tbody>\n",
       "    <tr>\n",
       "      <th>0</th>\n",
       "      <td>-2.0</td>\n",
       "      <td>-2.0</td>\n",
       "      <td>1</td>\n",
       "    </tr>\n",
       "    <tr>\n",
       "      <th>1</th>\n",
       "      <td>-2.0</td>\n",
       "      <td>-1.9</td>\n",
       "      <td>1</td>\n",
       "    </tr>\n",
       "    <tr>\n",
       "      <th>2</th>\n",
       "      <td>-2.0</td>\n",
       "      <td>-1.8</td>\n",
       "      <td>1</td>\n",
       "    </tr>\n",
       "    <tr>\n",
       "      <th>3</th>\n",
       "      <td>-2.0</td>\n",
       "      <td>-1.7</td>\n",
       "      <td>1</td>\n",
       "    </tr>\n",
       "    <tr>\n",
       "      <th>4</th>\n",
       "      <td>-2.0</td>\n",
       "      <td>-1.6</td>\n",
       "      <td>1</td>\n",
       "    </tr>\n",
       "  </tbody>\n",
       "</table>\n",
       "</div>"
      ],
      "text/plain": [
       "     0    1  2\n",
       "0 -2.0 -2.0  1\n",
       "1 -2.0 -1.9  1\n",
       "2 -2.0 -1.8  1\n",
       "3 -2.0 -1.7  1\n",
       "4 -2.0 -1.6  1"
      ]
     },
     "execution_count": 194,
     "metadata": {},
     "output_type": "execute_result"
    }
   ],
   "source": [
    "test_df.head()"
   ]
  },
  {
   "cell_type": "code",
   "execution_count": 341,
   "id": "4602839c-abb1-4f4c-8f86-1846c69a13f2",
   "metadata": {},
   "outputs": [
    {
     "data": {
      "image/png": "[encoded data removed]",
      "text/plain": [
       "<Figure size 432x288 with 1 Axes>"
      ]
     },
     "metadata": {
      "needs_background": "light"
     },
     "output_type": "display_data"
    }
   ],
   "source": [
    "fig, ax = plt.subplots()\n",
    "\n",
    "for index, row in train_df.iterrows():\n",
    "    if int(row[2]) == 0:\n",
    "        ax.plot(row[0], row[1], 'k+')\n",
    "    else:\n",
    "        ax.plot(row[0], row[1], 'ko')\n",
    "        \n",
    "for index, row in test_df.iterrows():\n",
    "    if int(row['2']) == 0:\n",
    "        ax.plot(row[0], row[1], 'b+', alpha=0.3)\n",
    "    else:\n",
    "        ax.plot(row[0], row[1], 'ro', alpha=0.3)\n",
    "        \n",
    "plt.savefig('Programming_1.png')\n",
    "plt.show()"
   ]
  },
  {
   "cell_type": "markdown",
   "id": "e46b22d6-1479-4123-a3a9-d5e4df0fc8d2",
   "metadata": {},
   "source": [
    "## Question 2"
   ]
  },
  {
   "cell_type": "code",
   "execution_count": 205,
   "id": "0b9bb5dc-992d-4325-bd34-694def870dc7",
   "metadata": {},
   "outputs": [
    {
     "data": {
      "text/html": [
       "<div>\n",
       "<style scoped>\n",
       "    .dataframe tbody tr th:only-of-type {\n",
       "        vertical-align: middle;\n",
       "    }\n",
       "\n",
       "    .dataframe tbody tr th {\n",
       "        vertical-align: top;\n",
       "    }\n",
       "\n",
       "    .dataframe thead th {\n",
       "        text-align: right;\n",
       "    }\n",
       "</style>\n",
       "<table border=\"1\" class=\"dataframe\">\n",
       "  <thead>\n",
       "    <tr style=\"text-align: right;\">\n",
       "      <th></th>\n",
       "      <th>the</th>\n",
       "      <th>to</th>\n",
       "      <th>ect</th>\n",
       "      <th>and</th>\n",
       "      <th>for</th>\n",
       "      <th>of</th>\n",
       "      <th>a</th>\n",
       "      <th>you</th>\n",
       "      <th>hou</th>\n",
       "      <th>in</th>\n",
       "      <th>...</th>\n",
       "      <th>enhancements</th>\n",
       "      <th>connevey</th>\n",
       "      <th>jay</th>\n",
       "      <th>valued</th>\n",
       "      <th>lay</th>\n",
       "      <th>infrastructure</th>\n",
       "      <th>military</th>\n",
       "      <th>allowing</th>\n",
       "      <th>ff</th>\n",
       "      <th>dry</th>\n",
       "    </tr>\n",
       "  </thead>\n",
       "  <tbody>\n",
       "    <tr>\n",
       "      <th>0</th>\n",
       "      <td>0</td>\n",
       "      <td>0</td>\n",
       "      <td>1</td>\n",
       "      <td>0</td>\n",
       "      <td>0</td>\n",
       "      <td>0</td>\n",
       "      <td>2</td>\n",
       "      <td>0</td>\n",
       "      <td>0</td>\n",
       "      <td>0</td>\n",
       "      <td>...</td>\n",
       "      <td>0</td>\n",
       "      <td>0</td>\n",
       "      <td>0</td>\n",
       "      <td>0</td>\n",
       "      <td>0</td>\n",
       "      <td>0</td>\n",
       "      <td>0</td>\n",
       "      <td>0</td>\n",
       "      <td>0</td>\n",
       "      <td>0</td>\n",
       "    </tr>\n",
       "    <tr>\n",
       "      <th>1</th>\n",
       "      <td>8</td>\n",
       "      <td>13</td>\n",
       "      <td>24</td>\n",
       "      <td>6</td>\n",
       "      <td>6</td>\n",
       "      <td>2</td>\n",
       "      <td>102</td>\n",
       "      <td>1</td>\n",
       "      <td>27</td>\n",
       "      <td>18</td>\n",
       "      <td>...</td>\n",
       "      <td>0</td>\n",
       "      <td>0</td>\n",
       "      <td>0</td>\n",
       "      <td>0</td>\n",
       "      <td>0</td>\n",
       "      <td>0</td>\n",
       "      <td>0</td>\n",
       "      <td>0</td>\n",
       "      <td>1</td>\n",
       "      <td>0</td>\n",
       "    </tr>\n",
       "    <tr>\n",
       "      <th>2</th>\n",
       "      <td>0</td>\n",
       "      <td>0</td>\n",
       "      <td>1</td>\n",
       "      <td>0</td>\n",
       "      <td>0</td>\n",
       "      <td>0</td>\n",
       "      <td>8</td>\n",
       "      <td>0</td>\n",
       "      <td>0</td>\n",
       "      <td>4</td>\n",
       "      <td>...</td>\n",
       "      <td>0</td>\n",
       "      <td>0</td>\n",
       "      <td>0</td>\n",
       "      <td>0</td>\n",
       "      <td>0</td>\n",
       "      <td>0</td>\n",
       "      <td>0</td>\n",
       "      <td>0</td>\n",
       "      <td>0</td>\n",
       "      <td>0</td>\n",
       "    </tr>\n",
       "    <tr>\n",
       "      <th>3</th>\n",
       "      <td>0</td>\n",
       "      <td>5</td>\n",
       "      <td>22</td>\n",
       "      <td>0</td>\n",
       "      <td>5</td>\n",
       "      <td>1</td>\n",
       "      <td>51</td>\n",
       "      <td>2</td>\n",
       "      <td>10</td>\n",
       "      <td>1</td>\n",
       "      <td>...</td>\n",
       "      <td>0</td>\n",
       "      <td>0</td>\n",
       "      <td>0</td>\n",
       "      <td>0</td>\n",
       "      <td>0</td>\n",
       "      <td>0</td>\n",
       "      <td>0</td>\n",
       "      <td>0</td>\n",
       "      <td>0</td>\n",
       "      <td>0</td>\n",
       "    </tr>\n",
       "    <tr>\n",
       "      <th>4</th>\n",
       "      <td>7</td>\n",
       "      <td>6</td>\n",
       "      <td>17</td>\n",
       "      <td>1</td>\n",
       "      <td>5</td>\n",
       "      <td>2</td>\n",
       "      <td>57</td>\n",
       "      <td>0</td>\n",
       "      <td>9</td>\n",
       "      <td>3</td>\n",
       "      <td>...</td>\n",
       "      <td>0</td>\n",
       "      <td>0</td>\n",
       "      <td>0</td>\n",
       "      <td>0</td>\n",
       "      <td>0</td>\n",
       "      <td>0</td>\n",
       "      <td>0</td>\n",
       "      <td>0</td>\n",
       "      <td>1</td>\n",
       "      <td>0</td>\n",
       "    </tr>\n",
       "  </tbody>\n",
       "</table>\n",
       "<p>5 rows × 3000 columns</p>\n",
       "</div>"
      ],
      "text/plain": [
       "   the  to  ect  and  for  of    a  you  hou  in  ...  enhancements  connevey  \\\n",
       "0    0   0    1    0    0   0    2    0    0   0  ...             0         0   \n",
       "1    8  13   24    6    6   2  102    1   27  18  ...             0         0   \n",
       "2    0   0    1    0    0   0    8    0    0   4  ...             0         0   \n",
       "3    0   5   22    0    5   1   51    2   10   1  ...             0         0   \n",
       "4    7   6   17    1    5   2   57    0    9   3  ...             0         0   \n",
       "\n",
       "   jay  valued  lay  infrastructure  military  allowing  ff  dry  \n",
       "0    0       0    0               0         0         0   0    0  \n",
       "1    0       0    0               0         0         0   1    0  \n",
       "2    0       0    0               0         0         0   0    0  \n",
       "3    0       0    0               0         0         0   0    0  \n",
       "4    0       0    0               0         0         0   1    0  \n",
       "\n",
       "[5 rows x 3000 columns]"
      ]
     },
     "execution_count": 205,
     "metadata": {},
     "output_type": "execute_result"
    }
   ],
   "source": [
    "email_df = pd.read_csv('data//emails.csv')\n",
    "\n",
    "y = email_df.pop('Prediction')\n",
    "email_df.pop('Email No.')\n",
    "email_df.head()"
   ]
  },
  {
   "cell_type": "code",
   "execution_count": 175,
   "id": "bb951efe-f8d7-4490-9e1e-5a6c875c158a",
   "metadata": {},
   "outputs": [],
   "source": [
    "from sklearn.metrics import make_scorer, accuracy_score, precision_score, recall_score, f1_score\n",
    "\n",
    "scoring = {'accuracy' : make_scorer(accuracy_score), \n",
    "           'precision' : make_scorer(precision_score),\n",
    "           'recall' : make_scorer(recall_score), \n",
    "           'f1_score' : make_scorer(f1_score)}\n",
    "\n",
    "kfold = KFold(n_splits=5)\n",
    "\n",
    "neighbors_2 = KNeighborsClassifier(n_neighbors=1)\n",
    "results = cross_validate(estimator=neighbors_2, X=email_df,y=y,cv=kfold,scoring=scoring)"
   ]
  },
  {
   "cell_type": "code",
   "execution_count": 176,
   "id": "c06f3969-ecac-4573-8194-58de33853d1b",
   "metadata": {},
   "outputs": [
    {
     "data": {
      "text/plain": [
       "{'fit_time': array([0.06250834, 0.04726481, 0.04687881, 0.04726219, 0.04687786]),\n",
       " 'score_time': array([0.20396447, 0.18831134, 0.20397472, 0.18833852, 0.1880281 ]),\n",
       " 'test_accuracy': array([0.825, 0.853, 0.862, 0.851, 0.775]),\n",
       " 'test_precision': array([0.65449438, 0.68571429, 0.72121212, 0.71641791, 0.60574413]),\n",
       " 'test_recall': array([0.81754386, 0.86642599, 0.83802817, 0.81632653, 0.75816993]),\n",
       " 'test_f1_score': array([0.72698908, 0.76555024, 0.7752443 , 0.76311606, 0.67343977])}"
      ]
     },
     "execution_count": 176,
     "metadata": {},
     "output_type": "execute_result"
    }
   ],
   "source": [
    "results"
   ]
  },
  {
   "cell_type": "markdown",
   "id": "a09f2192-f7de-4429-a0c5-928c1f7ddbc2",
   "metadata": {},
   "source": [
    "## Question 3"
   ]
  },
  {
   "cell_type": "code",
   "execution_count": 295,
   "id": "3d3bacd3-d453-47e5-b47c-396f0c962c58",
   "metadata": {},
   "outputs": [],
   "source": [
    "from sklearn.metrics import accuracy_score, precision_score, recall_score\n",
    "import copy"
   ]
  },
  {
   "cell_type": "code",
   "execution_count": 326,
   "id": "9b88662a-87df-46db-893a-a756fbcc30f2",
   "metadata": {},
   "outputs": [],
   "source": [
    "def sigmoid(z):    \n",
    "    output = 1 / (1 + np.exp(-z))\n",
    "    return output\n",
    "\n",
    "def train(x, y, alpha, epochs, params):\n",
    "\n",
    "    size = x.shape[0]\n",
    "    weight = params[\"w\"] \n",
    "    bias = params[\"b\"]\n",
    "    for i in range(epochs): \n",
    "        sigma = sigmoid(np.dot(x, weight) + bias)\n",
    "        loss = -1/size * np.sum(y * np.log(sigma)) + (1 - y) * np.log(1-sigma)\n",
    "        dW = 1/size * np.dot(x.T, (sigma - y))\n",
    "        db = 1/size * np.sum(sigma - y)\n",
    "        weight -= alpha * dW\n",
    "        bias -= alpha * db \n",
    "    \n",
    "    params[\"w\"] = weight\n",
    "    params[\"b\"] = bias\n",
    "    return params\n",
    "\n",
    "def predict(x, params):\n",
    "    probs = np.dot(x, params['w'])\n",
    "    return [1 if p > 0.5 else 0 for p in sigmoid(probs)]"
   ]
  },
  {
   "cell_type": "code",
   "execution_count": 310,
   "id": "b8136589-7055-42d6-8b12-3aa28b15e8ca",
   "metadata": {},
   "outputs": [],
   "source": [
    "for i in range(len(y)):\n",
    "    y[i] = float(y[i])"
   ]
  },
  {
   "cell_type": "code",
   "execution_count": 333,
   "id": "19953af5-ccf6-4ac8-a0fc-c3f7fd5f30da",
   "metadata": {},
   "outputs": [
    {
     "name": "stderr",
     "output_type": "stream",
     "text": [
      "C:\\Users\\ryank\\AppData\\Local\\Temp/ipykernel_8064/1820863800.py:2: RuntimeWarning: overflow encountered in exp\n",
      "  output = 1 / (1 + np.exp(-z))\n",
      "C:\\Users\\ryank\\AppData\\Local\\Temp/ipykernel_8064/1820863800.py:12: RuntimeWarning: divide by zero encountered in log\n",
      "  loss = -1/size * np.sum(y * np.log(sigma)) + (1 - y) * np.log(1-sigma)\n",
      "C:\\Users\\ryank\\AppData\\Local\\Temp/ipykernel_8064/1820863800.py:12: RuntimeWarning: invalid value encountered in multiply\n",
      "  loss = -1/size * np.sum(y * np.log(sigma)) + (1 - y) * np.log(1-sigma)\n",
      "C:\\Users\\ryank\\AppData\\Local\\Temp/ipykernel_8064/1820863800.py:2: RuntimeWarning: overflow encountered in exp\n",
      "  output = 1 / (1 + np.exp(-z))\n",
      "C:\\Users\\ryank\\AppData\\Local\\Temp/ipykernel_8064/1820863800.py:12: RuntimeWarning: divide by zero encountered in log\n",
      "  loss = -1/size * np.sum(y * np.log(sigma)) + (1 - y) * np.log(1-sigma)\n",
      "C:\\Users\\ryank\\AppData\\Local\\Temp/ipykernel_8064/1820863800.py:12: RuntimeWarning: invalid value encountered in multiply\n",
      "  loss = -1/size * np.sum(y * np.log(sigma)) + (1 - y) * np.log(1-sigma)\n",
      "C:\\Users\\ryank\\AppData\\Local\\Temp/ipykernel_8064/1820863800.py:2: RuntimeWarning: overflow encountered in exp\n",
      "  output = 1 / (1 + np.exp(-z))\n",
      "C:\\Users\\ryank\\AppData\\Local\\Temp/ipykernel_8064/1820863800.py:12: RuntimeWarning: divide by zero encountered in log\n",
      "  loss = -1/size * np.sum(y * np.log(sigma)) + (1 - y) * np.log(1-sigma)\n",
      "C:\\Users\\ryank\\AppData\\Local\\Temp/ipykernel_8064/1820863800.py:12: RuntimeWarning: invalid value encountered in multiply\n",
      "  loss = -1/size * np.sum(y * np.log(sigma)) + (1 - y) * np.log(1-sigma)\n",
      "C:\\Users\\ryank\\AppData\\Local\\Temp/ipykernel_8064/1820863800.py:2: RuntimeWarning: overflow encountered in exp\n",
      "  output = 1 / (1 + np.exp(-z))\n",
      "C:\\Users\\ryank\\AppData\\Local\\Temp/ipykernel_8064/1820863800.py:12: RuntimeWarning: divide by zero encountered in log\n",
      "  loss = -1/size * np.sum(y * np.log(sigma)) + (1 - y) * np.log(1-sigma)\n",
      "C:\\Users\\ryank\\AppData\\Local\\Temp/ipykernel_8064/1820863800.py:12: RuntimeWarning: invalid value encountered in multiply\n",
      "  loss = -1/size * np.sum(y * np.log(sigma)) + (1 - y) * np.log(1-sigma)\n",
      "C:\\Users\\ryank\\AppData\\Local\\Temp/ipykernel_8064/1820863800.py:2: RuntimeWarning: overflow encountered in exp\n",
      "  output = 1 / (1 + np.exp(-z))\n",
      "C:\\Users\\ryank\\AppData\\Local\\Temp/ipykernel_8064/1820863800.py:12: RuntimeWarning: divide by zero encountered in log\n",
      "  loss = -1/size * np.sum(y * np.log(sigma)) + (1 - y) * np.log(1-sigma)\n",
      "C:\\Users\\ryank\\AppData\\Local\\Temp/ipykernel_8064/1820863800.py:12: RuntimeWarning: invalid value encountered in multiply\n",
      "  loss = -1/size * np.sum(y * np.log(sigma)) + (1 - y) * np.log(1-sigma)\n"
     ]
    }
   ],
   "source": [
    "folds = 5\n",
    "prev_max = 0\n",
    "lr = 0.01\n",
    "epochs = 500\n",
    "accuracies = []\n",
    "precisions = []\n",
    "recalls = []\n",
    "\n",
    "for i in range(1, folds+1):\n",
    "    max_i = i*1000\n",
    "    x_train = pd.concat([email_df[0:prev_max], email_df[max_i:]])\n",
    "    x_test = email_df[prev_max:max_i]\n",
    "    y_train = pd.concat([y[0:prev_max],y[max_i:]])\n",
    "    y_test = y[prev_max:max_i]\n",
    "    y_train = y_train.to_numpy()\n",
    "    y_test = y_test.to_numpy()\n",
    "    \n",
    "    init_params = {} \n",
    "    init_params[\"w\"] = np.zeros(x_train.shape[1])\n",
    "    init_params[\"b\"] = 0\n",
    "\n",
    "    end_params = train(x_train, y_train, lr, epochs, init_params)\n",
    "    y_pred = predict(x_test, end_params)\n",
    "    accuracies.append(accuracy_score(y_test, y_pred))\n",
    "    precisions.append(precision_score(y_test, y_pred))\n",
    "    recalls.append(recall_score(y_test, y_pred))\n",
    "    \n",
    "    prev_max = max_i"
   ]
  },
  {
   "cell_type": "code",
   "execution_count": 334,
   "id": "28d1e7f1-c9b1-464a-b3cb-70aafe3864a5",
   "metadata": {},
   "outputs": [
    {
     "data": {
      "text/plain": [
       "([0.723, 0.783, 0.864, 0.747, 0.821],\n",
       " [0.5076628352490421,\n",
       "  0.875,\n",
       "  0.8854166666666666,\n",
       "  0.9767441860465116,\n",
       "  0.6798866855524079],\n",
       " [0.9298245614035088,\n",
       "  0.2527075812274368,\n",
       "  0.5985915492957746,\n",
       "  0.14285714285714285,\n",
       "  0.7843137254901961])"
      ]
     },
     "execution_count": 334,
     "metadata": {},
     "output_type": "execute_result"
    }
   ],
   "source": [
    "accuracies, precisions, recalls"
   ]
  },
  {
   "cell_type": "markdown",
   "id": "b0688398-2610-4f1a-931e-53eef0ee4370",
   "metadata": {},
   "source": [
    "## Question 4"
   ]
  },
  {
   "cell_type": "code",
   "execution_count": 206,
   "id": "ba5b1728-752a-47aa-b8a4-d79db7d278a0",
   "metadata": {},
   "outputs": [],
   "source": [
    "k = []\n",
    "mean_scores = []\n",
    "for i in range(1, 10, 2):\n",
    "    if(i == 9):\n",
    "        i = 10\n",
    "    neigh = KNeighborsClassifier(n_neighbors=i)\n",
    "    cv = KFold(n_splits=5, shuffle=False)\n",
    "    scores = cross_val_score(neigh, email_df, y, scoring='accuracy', cv=cv)\n",
    "    k.append(i)\n",
    "    mean_scores.append(np.mean(scores))"
   ]
  },
  {
   "cell_type": "code",
   "execution_count": 338,
   "id": "cefaebc7-2509-4184-a871-cd2feff4323a",
   "metadata": {},
   "outputs": [
    {
     "data": {
      "image/png": "[encoded data removed]",
      "text/plain": [
       "<Figure size 432x288 with 1 Axes>"
      ]
     },
     "metadata": {
      "needs_background": "light"
     },
     "output_type": "display_data"
    }
   ],
   "source": [
    "plt.grid(visible=True)\n",
    "plt.plot(k, mean_scores)\n",
    "plt.xlabel('K')\n",
    "plt.ylabel('Avg. Accuracy')\n",
    "plt.title('kNN 5-Fold Cross Validation')\n",
    "plt.savefig('Programming_4.png')"
   ]
  },
  {
   "cell_type": "markdown",
   "id": "27d7dea6-3aec-44b9-b73f-1bef20786e40",
   "metadata": {},
   "source": [
    "## Question 5"
   ]
  },
  {
   "cell_type": "code",
   "execution_count": 156,
   "id": "f2341e27-2d15-4afb-bccd-5c2cab697bc8",
   "metadata": {},
   "outputs": [],
   "source": [
    "from sklearn.model_selection import train_test_split\n",
    "from sklearn.linear_model import LogisticRegression\n",
    "\n",
    "x_train= email_df[:4000]\n",
    "x_test = email_df[4000:5000]\n",
    "y_train = y[:4000]\n",
    "y_test = y[4000:5000]"
   ]
  },
  {
   "cell_type": "code",
   "execution_count": 336,
   "id": "e2d0afd4-04dc-4b63-a143-3aabc32a22ff",
   "metadata": {},
   "outputs": [
    {
     "name": "stderr",
     "output_type": "stream",
     "text": [
      "C:\\Users\\ryank\\AppData\\Roaming\\Python\\Python310\\site-packages\\sklearn\\linear_model\\_logistic.py:814: ConvergenceWarning: lbfgs failed to converge (status=1):\n",
      "STOP: TOTAL NO. of ITERATIONS REACHED LIMIT.\n",
      "\n",
      "Increase the number of iterations (max_iter) or scale the data as shown in:\n",
      "    https://scikit-learn.org/stable/modules/preprocessing.html\n",
      "Please also refer to the documentation for alternative solver options:\n",
      "    https://scikit-learn.org/stable/modules/linear_model.html#logistic-regression\n",
      "  n_iter_i = _check_optimize_result(\n",
      "C:\\Users\\ryank\\AppData\\Local\\Temp/ipykernel_8064/2516816837.py:19: UserWarning: color is redundantly defined by the 'color' keyword argument and the fmt string \"b\" (-> color=(0.0, 0.0, 1.0, 1)). The keyword argument will take precedence.\n",
      "  plt.plot(fpr_l, tpr_l, 'b', label = 'Logisitc AUC = %0.2f' % roc_auc_l, color='orange')\n"
     ]
    },
    {
     "data": {
      "image/png": "[encoded data removed]",
      "text/plain": [
       "<Figure size 432x288 with 1 Axes>"
      ]
     },
     "metadata": {
      "needs_background": "light"
     },
     "output_type": "display_data"
    }
   ],
   "source": [
    "neighbors = KNeighborsClassifier(n_neighbors=5)\n",
    "neighbors.fit(x_train, y_train)\n",
    "\n",
    "logistic = LogisticRegression()\n",
    "logistic.fit(x_train, y_train)\n",
    "\n",
    "y_pred_k = np.array(neighbors.predict_proba(x_test))[:,1]\n",
    "y_pred_l = np.array(logistic.predict_proba(x_test))[:,1]\n",
    "\n",
    "fpr_k, tpr_k, threshold_k = metrics.roc_curve(y_test, y_pred_k)\n",
    "roc_auc_k = metrics.auc(fpr_k, tpr_k)\n",
    "\n",
    "fpr_l, tpr_l, threshold_l = metrics.roc_curve(y_test, y_pred_l)\n",
    "roc_auc_l = metrics.auc(fpr_l, tpr_l)\n",
    "\n",
    "plt.grid(visible=True)\n",
    "plt.title('Receiver Operating Characteristic')\n",
    "plt.plot(fpr_k, tpr_k, 'b', label = 'kNN AUC = %0.2f' % roc_auc_k)\n",
    "plt.plot(fpr_l, tpr_l, 'b', label = 'Logisitc AUC = %0.2f' % roc_auc_l, color='orange')\n",
    "plt.legend(loc = 'lower right')\n",
    "plt.plot([0, 1], [0, 1],'r--')\n",
    "plt.xlim([0, 1])\n",
    "plt.ylim([0, 1])\n",
    "plt.ylabel('True Positive Rate')\n",
    "plt.xlabel('False Positive Rate')\n",
    "plt.savefig('Programming_5.png')\n",
    "plt.show()"
   ]
  },
  {
   "cell_type": "code",
   "execution_count": null,
   "id": "12e0acb9-47b5-47c1-b6cf-e1d79117ff11",
   "metadata": {},
   "outputs": [],
   "source": []
  }
 ],
 "metadata": {
  "kernelspec": {
   "display_name": "Python 3 (ipykernel)",
   "language": "python",
   "name": "python3"
  },
  "language_info": {
   "codemirror_mode": {
    "name": "ipython",
    "version": 3
   },
   "file_extension": ".py",
   "mimetype": "text/x-python",
   "name": "python",
   "nbconvert_exporter": "python",
   "pygments_lexer": "ipython3",
   "version": "3.10.0"
  }
 },
 "nbformat": 4,
 "nbformat_minor": 5
}
